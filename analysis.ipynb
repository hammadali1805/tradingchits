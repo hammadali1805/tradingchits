{
 "cells": [
  {
   "cell_type": "code",
   "execution_count": 30,
   "metadata": {},
   "outputs": [],
   "source": [
    "import pandas as pd\n",
    "import numpy as np"
   ]
  },
  {
   "cell_type": "code",
   "execution_count": 48,
   "metadata": {},
   "outputs": [],
   "source": [
    "df = pd.read_csv(\"compliance.csv\")\n",
    "# Removing the '.NS' suffix from the 'stock' column\n",
    "df['stock'] = df['stock'].str.replace('.NS', '', regex=False)\n",
    "stocks_musaffa = df['stock'].to_list() "
   ]
  },
  {
   "cell_type": "code",
   "execution_count": 21,
   "metadata": {},
   "outputs": [],
   "source": [
    "df2 = pd.read_csv(\"valid_nse_tickers.csv\")\n",
    "stocks_nse = df2['Valid_Ticker'].to_list()"
   ]
  },
  {
   "cell_type": "code",
   "execution_count": 45,
   "metadata": {},
   "outputs": [],
   "source": [
    "df3 =pd.read_csv('compliance_halalstock.csv')\n",
    "df3 = df3[['NSECode']].dropna()\n",
    "stocks_halalstock = df3['NSECode'].to_list()\n",
    "df3 =pd.read_csv('compliance_halalstock.csv')"
   ]
  },
  {
   "cell_type": "code",
   "execution_count": 49,
   "metadata": {},
   "outputs": [
    {
     "name": "stdout",
     "output_type": "stream",
     "text": [
      "460 33\n"
     ]
    }
   ],
   "source": [
    "musaffa = [x for x in stocks_musaffa if x not in stocks_nse]\n",
    "nse = [x for x in stocks_nse if x not in stocks_musaffa]\n",
    "print(len(musaffa), len(nse))"
   ]
  },
  {
   "cell_type": "code",
   "execution_count": 50,
   "metadata": {},
   "outputs": [
    {
     "name": "stdout",
     "output_type": "stream",
     "text": [
      "376 42\n"
     ]
    }
   ],
   "source": [
    "halalstock = [x for x in stocks_halalstock if x not in stocks_nse]\n",
    "nse = [x for x in stocks_nse if x not in stocks_halalstock]\n",
    "print(len(halalstock), len(nse))"
   ]
  },
  {
   "cell_type": "code",
   "execution_count": 51,
   "metadata": {},
   "outputs": [
    {
     "name": "stdout",
     "output_type": "stream",
     "text": [
      "52 148\n"
     ]
    }
   ],
   "source": [
    "halalstock = [x for x in stocks_halalstock if x not in stocks_musaffa]\n",
    "musaffa = [x for x in stocks_musaffa if x not in stocks_halalstock]\n",
    "print(len(halalstock), len(musaffa))"
   ]
  },
  {
   "cell_type": "code",
   "execution_count": 64,
   "metadata": {},
   "outputs": [
    {
     "data": {
      "text/plain": [
       "(1947, 3)"
      ]
     },
     "execution_count": 64,
     "metadata": {},
     "output_type": "execute_result"
    }
   ],
   "source": [
    "df12 = pd.merge(df, df2, left_on='stock', right_on='Valid_Ticker')\n",
    "df12.shape"
   ]
  },
  {
   "cell_type": "code",
   "execution_count": 69,
   "metadata": {},
   "outputs": [
    {
     "data": {
      "text/plain": [
       "(1941, 7)"
      ]
     },
     "execution_count": 69,
     "metadata": {},
     "output_type": "execute_result"
    }
   ],
   "source": [
    "df23 = pd.merge(df2, df3, left_on='Valid_Ticker', right_on='NSECode')\n",
    "df23.shape"
   ]
  },
  {
   "cell_type": "code",
   "execution_count": 65,
   "metadata": {},
   "outputs": [
    {
     "data": {
      "text/plain": [
       "(2265, 8)"
      ]
     },
     "execution_count": 65,
     "metadata": {},
     "output_type": "execute_result"
    }
   ],
   "source": [
    "df13 = pd.merge(df, df3, left_on='stock', right_on='NSECode')\n",
    "df13.shape"
   ]
  },
  {
   "cell_type": "code",
   "execution_count": 71,
   "metadata": {},
   "outputs": [
    {
     "data": {
      "text/plain": [
       "(1933, 9)"
      ]
     },
     "execution_count": 71,
     "metadata": {},
     "output_type": "execute_result"
    }
   ],
   "source": [
    "df123 = pd.merge(df12, df3, left_on='stock', right_on='NSECode')\n",
    "df123.shape"
   ]
  },
  {
   "cell_type": "code",
   "execution_count": 66,
   "metadata": {},
   "outputs": [],
   "source": [
    "df13['status'] = df13['status'].replace({'Halal': 'yes', 'Not Halal': 'no'})"
   ]
  },
  {
   "cell_type": "code",
   "execution_count": 72,
   "metadata": {},
   "outputs": [],
   "source": [
    "testdf = df13[df13['Halal']!=df13['status']]"
   ]
  },
  {
   "cell_type": "code",
   "execution_count": 73,
   "metadata": {},
   "outputs": [],
   "source": [
    "testdf.to_excel('test.xlsx')"
   ]
  },
  {
   "cell_type": "code",
   "execution_count": null,
   "metadata": {},
   "outputs": [],
   "source": []
  }
 ],
 "metadata": {
  "kernelspec": {
   "display_name": "myvenv",
   "language": "python",
   "name": "python3"
  },
  "language_info": {
   "codemirror_mode": {
    "name": "ipython",
    "version": 3
   },
   "file_extension": ".py",
   "mimetype": "text/x-python",
   "name": "python",
   "nbconvert_exporter": "python",
   "pygments_lexer": "ipython3",
   "version": "3.11.2"
  }
 },
 "nbformat": 4,
 "nbformat_minor": 2
}
